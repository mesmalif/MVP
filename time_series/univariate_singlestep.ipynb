{
 "cells": [
  {
   "cell_type": "markdown",
   "id": "3fc77f6a-c937-4c8a-8ed3-97a0e34eac20",
   "metadata": {},
   "source": [
    "# 💻 [Univariate - single step LSTM](https://youtu.be/LkoSAbKG_H8)\n",
    "### 📚 [AI with Dr. Mo](https://www.youtube.com/c/AIwithDrMo/playlists)"
   ]
  },
  {
   "cell_type": "code",
   "execution_count": 1,
   "id": "3adbf1ef-14fb-4fc8-8ccb-3d84cb91498d",
   "metadata": {},
   "outputs": [],
   "source": [
    "import pandas as pd\n",
    "from numpy import array\n",
    "from keras.models import Sequential\n",
    "from keras.layers import LSTM\n",
    "from keras.layers import Dense"
   ]
  },
  {
   "cell_type": "code",
   "execution_count": 2,
   "id": "703b563d-18d1-421f-b2a0-736d08781bf8",
   "metadata": {},
   "outputs": [
    {
     "data": {
      "text/html": [
       "<div>\n",
       "<style scoped>\n",
       "    .dataframe tbody tr th:only-of-type {\n",
       "        vertical-align: middle;\n",
       "    }\n",
       "\n",
       "    .dataframe tbody tr th {\n",
       "        vertical-align: top;\n",
       "    }\n",
       "\n",
       "    .dataframe thead th {\n",
       "        text-align: right;\n",
       "    }\n",
       "</style>\n",
       "<table border=\"1\" class=\"dataframe\">\n",
       "  <thead>\n",
       "    <tr style=\"text-align: right;\">\n",
       "      <th></th>\n",
       "      <th>x</th>\n",
       "    </tr>\n",
       "  </thead>\n",
       "  <tbody>\n",
       "    <tr>\n",
       "      <th>0</th>\n",
       "      <td>17</td>\n",
       "    </tr>\n",
       "    <tr>\n",
       "      <th>1</th>\n",
       "      <td>18</td>\n",
       "    </tr>\n",
       "    <tr>\n",
       "      <th>2</th>\n",
       "      <td>19</td>\n",
       "    </tr>\n",
       "    <tr>\n",
       "      <th>3</th>\n",
       "      <td>20</td>\n",
       "    </tr>\n",
       "    <tr>\n",
       "      <th>4</th>\n",
       "      <td>21</td>\n",
       "    </tr>\n",
       "    <tr>\n",
       "      <th>...</th>\n",
       "      <td>...</td>\n",
       "    </tr>\n",
       "    <tr>\n",
       "      <th>307</th>\n",
       "      <td>324</td>\n",
       "    </tr>\n",
       "    <tr>\n",
       "      <th>308</th>\n",
       "      <td>325</td>\n",
       "    </tr>\n",
       "    <tr>\n",
       "      <th>309</th>\n",
       "      <td>326</td>\n",
       "    </tr>\n",
       "    <tr>\n",
       "      <th>310</th>\n",
       "      <td>327</td>\n",
       "    </tr>\n",
       "    <tr>\n",
       "      <th>311</th>\n",
       "      <td>328</td>\n",
       "    </tr>\n",
       "  </tbody>\n",
       "</table>\n",
       "<p>312 rows × 1 columns</p>\n",
       "</div>"
      ],
      "text/plain": [
       "       x\n",
       "0     17\n",
       "1     18\n",
       "2     19\n",
       "3     20\n",
       "4     21\n",
       "..   ...\n",
       "307  324\n",
       "308  325\n",
       "309  326\n",
       "310  327\n",
       "311  328\n",
       "\n",
       "[312 rows x 1 columns]"
      ]
     },
     "execution_count": 2,
     "metadata": {},
     "output_type": "execute_result"
    }
   ],
   "source": [
    "df = pd.DataFrame({'x':list(range(17, 329))})\n",
    "df"
   ]
  },
  {
   "cell_type": "code",
   "execution_count": 3,
   "id": "cc2c6b9b-71b9-48e6-aa57-c3b3c0cc84d5",
   "metadata": {},
   "outputs": [
    {
     "name": "stdout",
     "output_type": "stream",
     "text": [
      "       x    t-3    t-2    t-1  t-0\n",
      "0     17    NaN    NaN    NaN   17\n",
      "1     18    NaN    NaN   17.0   18\n",
      "2     19    NaN   17.0   18.0   19\n",
      "3     20   17.0   18.0   19.0   20\n",
      "4     21   18.0   19.0   20.0   21\n",
      "..   ...    ...    ...    ...  ...\n",
      "307  324  321.0  322.0  323.0  324\n",
      "308  325  322.0  323.0  324.0  325\n",
      "309  326  323.0  324.0  325.0  326\n",
      "310  327  324.0  325.0  326.0  327\n",
      "311  328  325.0  326.0  327.0  328\n",
      "\n",
      "[312 rows x 5 columns]\n"
     ]
    }
   ],
   "source": [
    "num_lags = 3\n",
    "\n",
    "for i in range(num_lags+1):\n",
    "    df.insert(loc=1, column=f't-{i}' , value=df.iloc[:,0].shift(periods=i))\n",
    "print(df)"
   ]
  },
  {
   "cell_type": "code",
   "execution_count": 7,
   "id": "9d149e5c-5470-447e-9482-82e9be6308b1",
   "metadata": {
    "tags": []
   },
   "outputs": [
    {
     "name": "stdout",
     "output_type": "stream",
     "text": [
      "X.shape: (309, 3)\n",
      "y.shape: (309, 1)\n"
     ]
    }
   ],
   "source": [
    "df.dropna(inplace=True)\n",
    "\n",
    "X = df.iloc[:,1:num_lags+1].values\n",
    "y = df.iloc[:,num_lags+1:].values\n",
    "\n",
    "print(f'X.shape: {X.shape}')\n",
    "print(f'y.shape: {y.shape}')"
   ]
  },
  {
   "cell_type": "code",
   "execution_count": 5,
   "id": "e86044fb-0441-4b1f-801b-96f390b93524",
   "metadata": {},
   "outputs": [],
   "source": [
    "# reshape from [samples, num_lags] into [samples, num_lags, num_feat]\n",
    "num_feat = 1\n",
    "X = X.reshape((X.shape[0], X.shape[1], num_feat))"
   ]
  },
  {
   "cell_type": "code",
   "execution_count": 6,
   "id": "2dfdc7e7-ece7-4948-b8fa-8d002b7e9d26",
   "metadata": {},
   "outputs": [
    {
     "name": "stderr",
     "output_type": "stream",
     "text": [
      "2022-07-28 06:56:24.621647: I tensorflow/core/platform/cpu_feature_guard.cc:193] This TensorFlow binary is optimized with oneAPI Deep Neural Network Library (oneDNN) to use the following CPU instructions in performance-critical operations:  AVX2 FMA\n",
      "To enable them in other operations, rebuild TensorFlow with the appropriate compiler flags.\n"
     ]
    },
    {
     "name": "stdout",
     "output_type": "stream",
     "text": [
      "[[302.99463]]\n"
     ]
    }
   ],
   "source": [
    "# define model\n",
    "model = Sequential()\n",
    "model.add(LSTM(40, activation='relu', input_shape=(num_lags, num_feat)))\n",
    "model.add(Dense(1))\n",
    "model.compile(optimizer='adam', loss='mse')\n",
    "\n",
    "# fit model\n",
    "model.fit(X, y, epochs=200, verbose=0)\n",
    "\n",
    "# get prediction\n",
    "x_input = array([300, 301, 302])\n",
    "x_input = x_input.reshape((1, num_lags, num_feat))\n",
    "y_pred = model.predict(x_input, verbose=0)\n",
    "print(y_pred)"
   ]
  },
  {
   "cell_type": "code",
   "execution_count": null,
   "id": "090a65ff-6a12-4fbb-8798-0f899f3cec03",
   "metadata": {},
   "outputs": [],
   "source": []
  }
 ],
 "metadata": {
  "kernelspec": {
   "display_name": "Python 3 (ipykernel)",
   "language": "python",
   "name": "python3"
  },
  "language_info": {
   "codemirror_mode": {
    "name": "ipython",
    "version": 3
   },
   "file_extension": ".py",
   "mimetype": "text/x-python",
   "name": "python",
   "nbconvert_exporter": "python",
   "pygments_lexer": "ipython3",
   "version": "3.9.11"
  }
 },
 "nbformat": 4,
 "nbformat_minor": 5
}
