{
 "cells": [
  {
   "cell_type": "markdown",
   "id": "3fc77f6a-c937-4c8a-8ed3-97a0e34eac20",
   "metadata": {},
   "source": [
    "# 💻 [Univariate - multi step LSTM](https://youtu.be/xYT65cyNS4M)\n",
    "### 📚 [AI with Dr. Mo](https://www.youtube.com/c/AIwithDrMo/playlists)\n"
   ]
  },
  {
   "cell_type": "code",
   "execution_count": 1,
   "id": "3adbf1ef-14fb-4fc8-8ccb-3d84cb91498d",
   "metadata": {},
   "outputs": [],
   "source": [
    "import pandas as pd\n",
    "from numpy import array\n",
    "from keras.models import Sequential\n",
    "from keras.layers import LSTM\n",
    "from keras.layers import Dense"
   ]
  },
  {
   "cell_type": "markdown",
   "id": "d7327c38-fa0a-418d-ba87-910a63ff6eb1",
   "metadata": {},
   "source": [
    "## Create a simple univariate time-series data"
   ]
  },
  {
   "cell_type": "code",
   "execution_count": 2,
   "id": "703b563d-18d1-421f-b2a0-736d08781bf8",
   "metadata": {},
   "outputs": [
    {
     "data": {
      "text/html": [
       "<div>\n",
       "<style scoped>\n",
       "    .dataframe tbody tr th:only-of-type {\n",
       "        vertical-align: middle;\n",
       "    }\n",
       "\n",
       "    .dataframe tbody tr th {\n",
       "        vertical-align: top;\n",
       "    }\n",
       "\n",
       "    .dataframe thead th {\n",
       "        text-align: right;\n",
       "    }\n",
       "</style>\n",
       "<table border=\"1\" class=\"dataframe\">\n",
       "  <thead>\n",
       "    <tr style=\"text-align: right;\">\n",
       "      <th></th>\n",
       "      <th>x</th>\n",
       "    </tr>\n",
       "  </thead>\n",
       "  <tbody>\n",
       "    <tr>\n",
       "      <th>0</th>\n",
       "      <td>17</td>\n",
       "    </tr>\n",
       "    <tr>\n",
       "      <th>1</th>\n",
       "      <td>18</td>\n",
       "    </tr>\n",
       "    <tr>\n",
       "      <th>2</th>\n",
       "      <td>19</td>\n",
       "    </tr>\n",
       "    <tr>\n",
       "      <th>3</th>\n",
       "      <td>20</td>\n",
       "    </tr>\n",
       "    <tr>\n",
       "      <th>4</th>\n",
       "      <td>21</td>\n",
       "    </tr>\n",
       "    <tr>\n",
       "      <th>...</th>\n",
       "      <td>...</td>\n",
       "    </tr>\n",
       "    <tr>\n",
       "      <th>307</th>\n",
       "      <td>324</td>\n",
       "    </tr>\n",
       "    <tr>\n",
       "      <th>308</th>\n",
       "      <td>325</td>\n",
       "    </tr>\n",
       "    <tr>\n",
       "      <th>309</th>\n",
       "      <td>326</td>\n",
       "    </tr>\n",
       "    <tr>\n",
       "      <th>310</th>\n",
       "      <td>327</td>\n",
       "    </tr>\n",
       "    <tr>\n",
       "      <th>311</th>\n",
       "      <td>328</td>\n",
       "    </tr>\n",
       "  </tbody>\n",
       "</table>\n",
       "<p>312 rows × 1 columns</p>\n",
       "</div>"
      ],
      "text/plain": [
       "       x\n",
       "0     17\n",
       "1     18\n",
       "2     19\n",
       "3     20\n",
       "4     21\n",
       "..   ...\n",
       "307  324\n",
       "308  325\n",
       "309  326\n",
       "310  327\n",
       "311  328\n",
       "\n",
       "[312 rows x 1 columns]"
      ]
     },
     "execution_count": 2,
     "metadata": {},
     "output_type": "execute_result"
    }
   ],
   "source": [
    "df = pd.DataFrame({'x':list(range(17, 329))})\n",
    "df"
   ]
  },
  {
   "cell_type": "markdown",
   "id": "c643be8c-9d98-4897-a563-0f85f395a210",
   "metadata": {},
   "source": [
    "## Shift time-series to get lag and lead steps"
   ]
  },
  {
   "cell_type": "code",
   "execution_count": 3,
   "id": "cc2c6b9b-71b9-48e6-aa57-c3b3c0cc84d5",
   "metadata": {},
   "outputs": [
    {
     "name": "stdout",
     "output_type": "stream",
     "text": [
      "       x    t-3    t-2    t-1  t-0    t+1\n",
      "0     17    NaN    NaN    NaN   17   18.0\n",
      "1     18    NaN    NaN   17.0   18   19.0\n",
      "2     19    NaN   17.0   18.0   19   20.0\n",
      "3     20   17.0   18.0   19.0   20   21.0\n",
      "4     21   18.0   19.0   20.0   21   22.0\n",
      "..   ...    ...    ...    ...  ...    ...\n",
      "307  324  321.0  322.0  323.0  324  325.0\n",
      "308  325  322.0  323.0  324.0  325  326.0\n",
      "309  326  323.0  324.0  325.0  326  327.0\n",
      "310  327  324.0  325.0  326.0  327  328.0\n",
      "311  328  325.0  326.0  327.0  328    NaN\n",
      "\n",
      "[312 rows x 6 columns]\n"
     ]
    }
   ],
   "source": [
    "num_lags = 3\n",
    "num_steps = 2\n",
    "\n",
    "for i in range(num_lags+1):\n",
    "    df.insert(loc=1, column=f't-{i}' , value=df.iloc[:,0].shift(periods=i))\n",
    "for j in range(1,num_steps):\n",
    "        df.insert(loc=num_lags+j+1, column=f't+{j}' , value=df.iloc[:,0].shift(periods=-j))\n",
    "print(df)"
   ]
  },
  {
   "cell_type": "markdown",
   "id": "f841d065-8582-4d59-8aa7-7ad2291521c6",
   "metadata": {},
   "source": [
    "## Create X and y from the above shifted time series"
   ]
  },
  {
   "cell_type": "code",
   "execution_count": 4,
   "id": "9d149e5c-5470-447e-9482-82e9be6308b1",
   "metadata": {},
   "outputs": [
    {
     "name": "stdout",
     "output_type": "stream",
     "text": [
      "(308, 3)\n",
      "(308, 2)\n"
     ]
    }
   ],
   "source": [
    "df.dropna(inplace=True)\n",
    "\n",
    "X = df.iloc[:,1:num_lags+1].values\n",
    "y = df.iloc[:,num_lags+1:].values\n",
    "\n",
    "print(X.shape)\n",
    "print(y.shape)"
   ]
  },
  {
   "cell_type": "code",
   "execution_count": 6,
   "id": "e86044fb-0441-4b1f-801b-96f390b93524",
   "metadata": {},
   "outputs": [],
   "source": [
    "# reshape from [samples, num_lags] into [samples, num_lags, num_feat]\n",
    "num_feat = 1\n",
    "X = X.reshape((X.shape[0], X.shape[1], num_feat))"
   ]
  },
  {
   "cell_type": "markdown",
   "id": "d8bf15f3-8a47-4159-a22e-6c2d6120c770",
   "metadata": {},
   "source": [
    "## Train model and predict multi step out values"
   ]
  },
  {
   "cell_type": "code",
   "execution_count": 7,
   "id": "2dfdc7e7-ece7-4948-b8fa-8d002b7e9d26",
   "metadata": {},
   "outputs": [
    {
     "name": "stderr",
     "output_type": "stream",
     "text": [
      "2022-07-24 11:31:16.485685: I tensorflow/core/platform/cpu_feature_guard.cc:193] This TensorFlow binary is optimized with oneAPI Deep Neural Network Library (oneDNN) to use the following CPU instructions in performance-critical operations:  AVX2 FMA\n",
      "To enable them in other operations, rebuild TensorFlow with the appropriate compiler flags.\n"
     ]
    },
    {
     "name": "stdout",
     "output_type": "stream",
     "text": [
      "[[302.98962 303.95218]]\n"
     ]
    }
   ],
   "source": [
    "# define model\n",
    "model = Sequential()\n",
    "model.add(LSTM(40, activation='relu', input_shape=(num_lags, num_feat)))\n",
    "model.add(Dense(num_steps))\n",
    "model.compile(optimizer='adam', loss='mse')\n",
    "# fit model\n",
    "model.fit(X, y, epochs=200, verbose=0)\n",
    "# demonstrate prediction\n",
    "x_input = array([300, 301, 302])\n",
    "x_input = x_input.reshape((1, num_lags, num_feat))\n",
    "y_pred = model.predict(x_input, verbose=0)\n",
    "print(y_pred)"
   ]
  },
  {
   "cell_type": "code",
   "execution_count": null,
   "id": "4f08cc5c-c788-4bae-b239-c0d26c0cd01e",
   "metadata": {},
   "outputs": [],
   "source": []
  }
 ],
 "metadata": {
  "kernelspec": {
   "display_name": "Python 3 (ipykernel)",
   "language": "python",
   "name": "python3"
  },
  "language_info": {
   "codemirror_mode": {
    "name": "ipython",
    "version": 3
   },
   "file_extension": ".py",
   "mimetype": "text/x-python",
   "name": "python",
   "nbconvert_exporter": "python",
   "pygments_lexer": "ipython3",
   "version": "3.9.11"
  }
 },
 "nbformat": 4,
 "nbformat_minor": 5
}
